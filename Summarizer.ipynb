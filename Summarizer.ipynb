{
  "nbformat": 4,
  "nbformat_minor": 5,
  "metadata": {
    "colab": {
      "name": "Summarizer.ipynb",
      "provenance": [],
      "collapsed_sections": []
    },
    "kernelspec": {
      "display_name": "Python 3",
      "language": "python",
      "name": "python3"
    },
    "language_info": {
      "codemirror_mode": {
        "name": "ipython",
        "version": 3
      },
      "file_extension": ".py",
      "mimetype": "text/x-python",
      "name": "python",
      "nbconvert_exporter": "python",
      "pygments_lexer": "ipython3",
      "version": "3.8.6"
    }
  },
  "cells": [
    {
      "cell_type": "markdown",
      "metadata": {
        "id": "rW4vtGZttFY4"
      },
      "source": [
        "## Download Libraries"
      ],
      "id": "rW4vtGZttFY4"
    },
    {
      "cell_type": "code",
      "metadata": {
        "id": "NjkfWiweogv4"
      },
      "source": [
        "pip install moviepy"
      ],
      "id": "NjkfWiweogv4",
      "execution_count": null,
      "outputs": []
    },
    {
      "cell_type": "code",
      "metadata": {
        "id": "ZSasDNsHogsX"
      },
      "source": [
        "pip install SpeechRecognition pydub"
      ],
      "id": "ZSasDNsHogsX",
      "execution_count": null,
      "outputs": []
    },
    {
      "cell_type": "code",
      "metadata": {
        "id": "R6kHh_ZCnrQQ"
      },
      "source": [
        "!pip install -U spacy\n",
        "!python -m spacy download en_core_web_sm"
      ],
      "id": "R6kHh_ZCnrQQ",
      "execution_count": null,
      "outputs": []
    },
    {
      "cell_type": "code",
      "metadata": {
        "id": "ym1ysz7RnrMx"
      },
      "source": [
        "pip install gtts"
      ],
      "id": "ym1ysz7RnrMx",
      "execution_count": null,
      "outputs": []
    },
    {
      "cell_type": "code",
      "metadata": {
        "id": "8vialQtQl-fT"
      },
      "source": [
        "pip install pytube"
      ],
      "id": "8vialQtQl-fT",
      "execution_count": null,
      "outputs": []
    },
    {
      "cell_type": "markdown",
      "metadata": {
        "id": "6TpYM090W6Sc"
      },
      "source": [
        "## URL to Video"
      ],
      "id": "6TpYM090W6Sc"
    },
    {
      "cell_type": "code",
      "metadata": {
        "id": "xMbiDOnDuQw9"
      },
      "source": [
        "import requests\n",
        "from pytube import YouTube\n",
        "\n",
        "def download(link):\n",
        "\n",
        "    if 'youtu.be/' in link:\n",
        "        try:\n",
        "            yt = YouTube(link)\n",
        "            video = yt.streams.first()\n",
        "            title=video.download()\n",
        "            title=title.split(sep='/')[-1]\n",
        "        except:\n",
        "            print('failed')\n",
        "            title=None\n",
        "\n",
        "    else:\n",
        "        if 'drive.google.com/' in link:\n",
        "            id=link.split(sep='/')[-2]\n",
        "            link='https://drive.google.com/u/0/uc?id='+id+'&export=download'\n",
        "            print('sec 1')\n",
        "\n",
        "        r = requests.get(link, allow_redirects=True)\n",
        "        content_type=r.headers.get('content-type')\n",
        "\n",
        "        if  content_type.split(sep='/')[0]=='video':\n",
        "            open('video.mp4', 'wb').write(r.content)\n",
        "            title='video.mp4'\n",
        "        else:\n",
        "            title=None\n",
        "           \n",
        "    return title"
      ],
      "id": "xMbiDOnDuQw9",
      "execution_count": null,
      "outputs": []
    },
    {
      "cell_type": "markdown",
      "metadata": {
        "id": "U3qrc_FWXHJC"
      },
      "source": [
        "## Video to Audio"
      ],
      "id": "U3qrc_FWXHJC"
    },
    {
      "cell_type": "code",
      "metadata": {
        "id": "8l1oVUuHXLvw",
        "colab": {
          "base_uri": "https://localhost:8080/"
        },
        "outputId": "f555c1d4-e211-437b-8ace-3c578b0f577f"
      },
      "source": [
        "import os\n",
        "import moviepy.editor as mp\n",
        "from pydub import AudioSegment\n",
        "\n",
        "def video_to_audio(title):\n",
        "    # read  Video File\n",
        "    clip = mp.VideoFileClip(title)\n",
        "\n",
        "    # write Audio File\n",
        "    clip.audio.write_audiofile(r\"audio.mp3\")\n",
        "\n",
        "    sound = AudioSegment.from_mp3(\"audio.mp3\")\n",
        "    sound.export(\"audio.wav\", format=\"wav\")"
      ],
      "id": "8l1oVUuHXLvw",
      "execution_count": null,
      "outputs": [
        {
          "output_type": "stream",
          "text": [
            "Imageio: 'ffmpeg-linux64-v3.3.1' was not found on your computer; downloading it now.\n",
            "Try 1. Download from https://github.com/imageio/imageio-binaries/raw/master/ffmpeg/ffmpeg-linux64-v3.3.1 (43.8 MB)\n",
            "Downloading: 8192/45929032 bytes (0.0%)\b\b\b\b\b\b\b\b\b\b\b\b\b\b\b\b\b\b\b\b\b\b\b\b\b\b3342336/45929032 bytes (7.3%)\b\b\b\b\b\b\b\b\b\b\b\b\b\b\b\b\b\b\b\b\b\b\b\b\b\b\b\b\b6356992/45929032 bytes (13.8%)\b\b\b\b\b\b\b\b\b\b\b\b\b\b\b\b\b\b\b\b\b\b\b\b\b\b\b\b\b\b9396224/45929032 bytes (20.5%)\b\b\b\b\b\b\b\b\b\b\b\b\b\b\b\b\b\b\b\b\b\b\b\b\b\b\b\b\b\b12492800/45929032 bytes (27.2%)\b\b\b\b\b\b\b\b\b\b\b\b\b\b\b\b\b\b\b\b\b\b\b\b\b\b\b\b\b\b\b15720448/45929032 bytes (34.2%)\b\b\b\b\b\b\b\b\b\b\b\b\b\b\b\b\b\b\b\b\b\b\b\b\b\b\b\b\b\b\b18907136/45929032 bytes (41.2%)\b\b\b\b\b\b\b\b\b\b\b\b\b\b\b\b\b\b\b\b\b\b\b\b\b\b\b\b\b\b\b22126592/45929032 bytes (48.2%)\b\b\b\b\b\b\b\b\b\b\b\b\b\b\b\b\b\b\b\b\b\b\b\b\b\b\b\b\b\b\b25321472/45929032 bytes (55.1%)\b\b\b\b\b\b\b\b\b\b\b\b\b\b\b\b\b\b\b\b\b\b\b\b\b\b\b\b\b\b\b28278784/45929032 bytes (61.6%)\b\b\b\b\b\b\b\b\b\b\b\b\b\b\b\b\b\b\b\b\b\b\b\b\b\b\b\b\b\b\b31416320/45929032 bytes (68.4%)\b\b\b\b\b\b\b\b\b\b\b\b\b\b\b\b\b\b\b\b\b\b\b\b\b\b\b\b\b\b\b34414592/45929032 bytes (74.9%)\b\b\b\b\b\b\b\b\b\b\b\b\b\b\b\b\b\b\b\b\b\b\b\b\b\b\b\b\b\b\b37404672/45929032 bytes (81.4%)\b\b\b\b\b\b\b\b\b\b\b\b\b\b\b\b\b\b\b\b\b\b\b\b\b\b\b\b\b\b\b40517632/45929032 bytes (88.2%)\b\b\b\b\b\b\b\b\b\b\b\b\b\b\b\b\b\b\b\b\b\b\b\b\b\b\b\b\b\b\b43532288/45929032 bytes (94.8%)\b\b\b\b\b\b\b\b\b\b\b\b\b\b\b\b\b\b\b\b\b\b\b\b\b\b\b\b\b\b\b45929032/45929032 bytes (100.0%)\n",
            "  Done\n",
            "File saved as /root/.imageio/ffmpeg/ffmpeg-linux64-v3.3.1.\n"
          ],
          "name": "stdout"
        }
      ]
    },
    {
      "cell_type": "markdown",
      "metadata": {
        "id": "7iMgptl9XMTp"
      },
      "source": [
        "## Audio to Text"
      ],
      "id": "7iMgptl9XMTp"
    },
    {
      "cell_type": "markdown",
      "metadata": {
        "id": "ZoTjNHaJXzX0"
      },
      "source": [
        "https://www.thepythoncode.com/article/using-speech-recognition-to-convert-speech-to-text-python"
      ],
      "id": "ZoTjNHaJXzX0"
    },
    {
      "cell_type": "code",
      "metadata": {
        "id": "z7lN3ErzYTi9"
      },
      "source": [
        "#---------------For Large Files---------------#\n",
        "\n",
        "import speech_recognition as sr\n",
        "r = sr.Recognizer()\n",
        "\n",
        "from pydub.silence import split_on_silence\n",
        "\n",
        "# a function that splits the audio file into chunks and applies speech recognition on these chunks\n",
        "def get_audio_transcription():\n",
        "    path=\"audio.wav\"\n",
        "    # open the audio file using pydub\n",
        "    sound = AudioSegment.from_wav(path)  \n",
        "    # split audio sound where silence is 700 miliseconds or more and get chunks\n",
        "    chunks = split_on_silence(sound,\n",
        "        # experiment with this value for your target audio file\n",
        "        min_silence_len = 500,\n",
        "        # adjust this per requirement\n",
        "        silence_thresh = sound.dBFS-14,\n",
        "        # keep the silence for 1 second, adjustable as well\n",
        "        keep_silence=500,\n",
        "    )\n",
        "    folder_name = \"audio-chunks\"\n",
        "    # create a directory to store the audio chunks\n",
        "    if not os.path.isdir(folder_name):\n",
        "        os.mkdir(folder_name)\n",
        "    whole_text = \"\"\n",
        "    # process each chunk \n",
        "    for i, audio_chunk in enumerate(chunks, start=1):\n",
        "        # export audio chunk and save it in\n",
        "        # the `folder_name` directory.\n",
        "        chunk_filename = os.path.join(folder_name, f\"chunk{i}.wav\")\n",
        "        audio_chunk.export(chunk_filename, format=\"wav\")\n",
        "        # recognize the chunk\n",
        "        with sr.AudioFile(chunk_filename) as source:\n",
        "            audio_listened = r.record(source)\n",
        "            # try converting it to text\n",
        "            try:\n",
        "                text = r.recognize_google(audio_listened)\n",
        "            except sr.UnknownValueError as e:\n",
        "                None\n",
        "                #print(\"Error:\", str(e))\n",
        "            else:\n",
        "                text = f\"{text.capitalize()}. \"\n",
        "                #print(chunk_filename, \":\", text)\n",
        "                whole_text += text\n",
        "    # return the text for all chunks detected\n",
        "    return whole_text"
      ],
      "id": "z7lN3ErzYTi9",
      "execution_count": null,
      "outputs": []
    },
    {
      "cell_type": "markdown",
      "metadata": {
        "id": "I-leHNTcW_3Y"
      },
      "source": [
        "## Text Summarization"
      ],
      "id": "I-leHNTcW_3Y"
    },
    {
      "cell_type": "code",
      "metadata": {
        "id": "random-proposition"
      },
      "source": [
        "import spacy\n",
        "from spacy.lang.en.stop_words import STOP_WORDS \n",
        "from string import punctuation\n",
        "punctuation += '\\n'\n",
        "def summarizer(text):\n",
        "\n",
        "    stopwords=list(STOP_WORDS)\n",
        "\n",
        "    nlp = spacy.load('en_core_web_sm')\n",
        "\n",
        "    doc=nlp(text)\n",
        "\n",
        "    tokens= [token.text for token in doc]\n",
        "\n",
        "    word_frequencies = {}\n",
        "    for word in doc:\n",
        "        if word.text.lower() not in stopwords:\n",
        "            if word.text not in word_frequencies.keys():\n",
        "                word_frequencies[word.text]=1\n",
        "            else:\n",
        "                word_frequencies[word.text]+=1\n",
        "\n",
        "    max_frequency = max(word_frequencies.values())\n",
        "\n",
        "    #Normalizing the word frequency\n",
        "    for word in word_frequencies.keys():\n",
        "        word_frequencies[word] = word_frequencies[word]/max_frequency\n",
        "\n",
        "    sentence_tokens=[sent for sent in doc.sents]\n",
        "\n",
        "    # weighing the sentence_tokens\n",
        "    sentence_scores = {}\n",
        "    for sent in sentence_tokens:\n",
        "        for word in sent:\n",
        "            if word.text.lower() in word_frequencies.keys():\n",
        "                if sent not in sentence_scores.keys():\n",
        "                    sentence_scores[sent] = word_frequencies[word.text.lower()]\n",
        "                else:\n",
        "                    sentence_scores[sent] += word_frequencies[word.text.lower()]\n",
        "\n",
        "    from heapq import nlargest\n",
        "    percentage=0.30\n",
        "    select_length = int(len(sentence_tokens)*percentage)\n",
        "\n",
        "    summary = nlargest(select_length, sentence_scores, key = sentence_scores.get)\n",
        "    final_summary = [word.text for word in summary]\n",
        "    summary = ' '.join(final_summary)\n",
        "\n",
        "    return summary"
      ],
      "id": "random-proposition",
      "execution_count": null,
      "outputs": []
    },
    {
      "cell_type": "markdown",
      "metadata": {
        "id": "vi6zfdoOXWSh"
      },
      "source": [
        "## Text to Audio"
      ],
      "id": "vi6zfdoOXWSh"
    },
    {
      "cell_type": "code",
      "metadata": {
        "id": "jFvo-8vGXhPd"
      },
      "source": [
        "import gtts\n",
        "\n",
        "def text_to_audio(text):\n",
        "    # make request to google to get synthesis\n",
        "    tts = gtts.gTTS(text)\n",
        "    # save the audio file\n",
        "    tts.save(\"summary.mp3\")"
      ],
      "id": "jFvo-8vGXhPd",
      "execution_count": null,
      "outputs": []
    },
    {
      "cell_type": "markdown",
      "metadata": {
        "id": "ovxWV3s9tlQE"
      },
      "source": [
        "## Driver Code"
      ],
      "id": "ovxWV3s9tlQE"
    },
    {
      "cell_type": "code",
      "metadata": {
        "id": "ea8vahRxmpaL",
        "colab": {
          "base_uri": "https://localhost:8080/"
        },
        "outputId": "08eaa6c5-e2c5-4165-919c-b901a97abc9b"
      },
      "source": [
        "#driver code\n",
        "\n",
        "link=input(\"Link: \")\n",
        "title=download(link)\n",
        "video_to_audio(title)\n",
        "text = get_audio_transcription()\n",
        "summary = summarizer(text)\n",
        "text_to_audio(summary)\n",
        "\n",
        "#download 'summary.mp3'"
      ],
      "id": "ea8vahRxmpaL",
      "execution_count": null,
      "outputs": [
        {
          "output_type": "stream",
          "text": [
            "[MoviePy] Writing audio in audio.mp3\n"
          ],
          "name": "stdout"
        },
        {
          "output_type": "stream",
          "text": [
            "100%|██████████| 24005/24005 [00:24<00:00, 960.90it/s]"
          ],
          "name": "stderr"
        },
        {
          "output_type": "stream",
          "text": [
            "[MoviePy] Done.\n"
          ],
          "name": "stdout"
        },
        {
          "output_type": "stream",
          "text": [
            "\n"
          ],
          "name": "stderr"
        }
      ]
    }
  ]
}